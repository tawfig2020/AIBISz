{
  "nbformat": 4,
  "nbformat_minor": 0,
  "metadata": {
    "colab": {
      "provenance": [],
      "authorship_tag": "ABX9TyNlxRxpKhehsmPLy7pDR+0N",
      "include_colab_link": true
    },
    "kernelspec": {
      "name": "python3",
      "display_name": "Python 3"
    },
    "language_info": {
      "name": "python"
    }
  },
  "cells": [
    {
      "cell_type": "markdown",
      "metadata": {
        "id": "view-in-github",
        "colab_type": "text"
      },
      "source": [
        "<a href=\"https://colab.research.google.com/github/tawfig2020/AIBISz/blob/master/Predicating_The_Best_Time_For_Scheduling_E_Mail.ipynb\" target=\"_parent\"><img src=\"https://colab.research.google.com/assets/colab-badge.svg\" alt=\"Open In Colab\"/></a>"
      ]
    },
    {
      "cell_type": "code",
      "source": [
        "pip install schedule"
      ],
      "metadata": {
        "colab": {
          "base_uri": "https://localhost:8080/"
        },
        "id": "CGly4u9vXZot",
        "outputId": "b588b460-0cd0-4d30-e5e0-8ef965c36d83"
      },
      "execution_count": 3,
      "outputs": [
        {
          "output_type": "stream",
          "name": "stdout",
          "text": [
            "Collecting schedule\n",
            "  Downloading schedule-1.2.2-py3-none-any.whl (12 kB)\n",
            "Installing collected packages: schedule\n",
            "Successfully installed schedule-1.2.2\n"
          ]
        }
      ]
    },
    {
      "cell_type": "code",
      "execution_count": 4,
      "metadata": {
        "id": "eV2gjzprU_H1"
      },
      "outputs": [],
      "source": [
        "import pandas as pd\n",
        "import numpy as np\n",
        "import smtplib\n",
        "from email.mime.multipart import MIMEMultipart\n",
        "from email.mime.text import MIMEText\n",
        "from sklearn.preprocessing import StandardScaler\n",
        "from sklearn.cluster import KMeans\n",
        "from sklearn.model_selection import train_test_split\n",
        "from sklearn.metrics import classification_report, mean_squared_error\n",
        "from tensorflow.keras.models import Sequential\n",
        "from tensorflow.keras.layers import Dense, Dropout\n",
        "from scipy.stats import ttest_ind\n",
        "import schedule\n",
        "import time\n",
        "from requests import post, patch\n"
      ]
    },
    {
      "cell_type": "markdown",
      "source": [
        "**# Example user data**"
      ],
      "metadata": {
        "id": "vt_yT4_nmDGy"
      }
    },
    {
      "cell_type": "code",
      "source": [
        "data = {\n",
        "    'user_id': range(1, 11),\n",
        "    'age': [25, 35, 45, 55, 65, 30, 40, 50, 60, 70],\n",
        "    'purchase_count': [5, 3, 10, 2, 8, 4, 6, 9, 1, 7],\n",
        "    'total_spend': [500, 300, 1000, 200, 800, 400, 600, 900, 100, 700],\n",
        "    'email': [\n",
        "        'user1@example.com', 'user2@example.com', 'user3@example.com',\n",
        "        'user4@example.com', 'user5@example.com', 'user6@example.com',\n",
        "        'user7@example.com', 'user8@example.com', 'user9@example.com',\n",
        "        'user10@example.com'\n",
        "    ]\n",
        "}\n",
        "df = pd.DataFrame(data)\n"
      ],
      "metadata": {
        "id": "rr-1CVrHXkhF"
      },
      "execution_count": 5,
      "outputs": []
    },
    {
      "cell_type": "markdown",
      "source": [
        "**# Normalize user features and segment using KMeans**"
      ],
      "metadata": {
        "id": "U_dvisH6l7UC"
      }
    },
    {
      "cell_type": "code",
      "source": [
        "scaler = StandardScaler()\n",
        "features = ['age', 'purchase_count', 'total_spend']\n",
        "df_scaled = scaler.fit_transform(df[features])\n",
        "kmeans = KMeans(n_clusters=3, random_state=42)\n",
        "df['segment'] = kmeans.fit_predict(df_scaled)"
      ],
      "metadata": {
        "colab": {
          "base_uri": "https://localhost:8080/"
        },
        "id": "eilqM7cTXmy6",
        "outputId": "ffcc8dab-f8ce-4652-d626-5f985f6bd0f6"
      },
      "execution_count": 6,
      "outputs": [
        {
          "output_type": "stream",
          "name": "stderr",
          "text": [
            "/usr/local/lib/python3.10/dist-packages/sklearn/cluster/_kmeans.py:870: FutureWarning: The default value of `n_init` will change from 10 to 'auto' in 1.4. Set the value of `n_init` explicitly to suppress the warning\n",
            "  warnings.warn(\n"
          ]
        }
      ]
    },
    {
      "cell_type": "markdown",
      "source": [
        "**# Personalize content based on spending**"
      ],
      "metadata": {
        "id": "nXWSqr09l0zp"
      }
    },
    {
      "cell_type": "code",
      "source": [
        "df['personalized_message'] = np.where(df['total_spend'] > 500,\n",
        "                                      \"Check out our premium offers!\",\n",
        "                                      \"Discover great value deals!\")"
      ],
      "metadata": {
        "id": "mZFySq2kXrSy"
      },
      "execution_count": 7,
      "outputs": []
    },
    {
      "cell_type": "markdown",
      "source": [
        "**# Example historical engagement data (mock data)**"
      ],
      "metadata": {
        "id": "WsvoVp79lu06"
      }
    },
    {
      "cell_type": "code",
      "source": [
        "historical_data = {\n",
        "    'user_id': range(1, 11),\n",
        "    'send_time': [8, 10, 14, 18, 20, 9, 11, 15, 19, 21],\n",
        "    'opened': [1, 0, 1, 1, 0, 1, 0, 1, 1, 0],\n",
        "    'clicked': [0, 0, 1, 0, 0, 0, 1, 0, 1, 0]\n",
        "    }\n",
        "df_historical = pd.DataFrame(historical_data)\n",
        "engagement_df = pd.DataFrame(historical_data)\n",
        "df = df.merge(engagement_df, on='user_id')"
      ],
      "metadata": {
        "id": "i1sEOtyUaobp"
      },
      "execution_count": 15,
      "outputs": []
    },
    {
      "cell_type": "markdown",
      "source": [
        "**# Prepare data for training the model**"
      ],
      "metadata": {
        "id": "6so1_mhblqrA"
      }
    },
    {
      "cell_type": "code",
      "source": [
        "X = df[['age', 'purchase_count', 'total_spend', 'send_time']]\n",
        "y = df['opened']"
      ],
      "metadata": {
        "id": "jz4DMX_bbMF0"
      },
      "execution_count": 16,
      "outputs": []
    },
    {
      "cell_type": "markdown",
      "source": [
        "**# Train-test split**"
      ],
      "metadata": {
        "id": "wlzi-dzNldd4"
      }
    },
    {
      "cell_type": "code",
      "source": [
        "X_train, X_test, y_train, y_test = train_test_split(X, y, test_size=0.3, random_state=42)"
      ],
      "metadata": {
        "id": "o-LSW_4CbPTv"
      },
      "execution_count": 17,
      "outputs": []
    },
    {
      "cell_type": "markdown",
      "source": [
        "**# Build a simple model for predicting engagement**"
      ],
      "metadata": {
        "id": "h37lTWFblJr3"
      }
    },
    {
      "cell_type": "code",
      "source": [
        "model = Sequential()\n",
        "model.add(Dense(64, input_dim=X_train.shape[1], activation='relu'))\n",
        "model.add(Dropout(0.2))\n",
        "model.add(Dense(32, activation='relu'))\n",
        "model.add(Dense(1, activation='sigmoid'))\n",
        "\n",
        "model.compile(optimizer='adam',\n",
        "              loss='binary_crossentropy',\n",
        "              metrics=['accuracy'])"
      ],
      "metadata": {
        "id": "afMktydMbYbb"
      },
      "execution_count": 18,
      "outputs": []
    },
    {
      "cell_type": "markdown",
      "source": [
        "**# Train the model**"
      ],
      "metadata": {
        "id": "INUM-BYHk8QR"
      }
    },
    {
      "cell_type": "code",
      "source": [
        "model.fit(X_train, y_train, epochs=20, batch_size=2, verbose=1)"
      ],
      "metadata": {
        "colab": {
          "base_uri": "https://localhost:8080/"
        },
        "id": "2B3grL_9bbjc",
        "outputId": "5bfb31de-0579-427c-907d-5e7599b2d969"
      },
      "execution_count": 19,
      "outputs": [
        {
          "output_type": "stream",
          "name": "stdout",
          "text": [
            "Epoch 1/20\n",
            "4/4 [==============================] - 1s 7ms/step - loss: 29.6305 - accuracy: 0.2857\n",
            "Epoch 2/20\n",
            "4/4 [==============================] - 0s 5ms/step - loss: 14.6465 - accuracy: 0.4286\n",
            "Epoch 3/20\n",
            "4/4 [==============================] - 0s 5ms/step - loss: 18.8338 - accuracy: 0.7143\n",
            "Epoch 4/20\n",
            "4/4 [==============================] - 0s 5ms/step - loss: 11.9417 - accuracy: 0.7143\n",
            "Epoch 5/20\n",
            "4/4 [==============================] - 0s 5ms/step - loss: 9.4869 - accuracy: 0.5714 \n",
            "Epoch 6/20\n",
            "4/4 [==============================] - 0s 5ms/step - loss: 15.5443 - accuracy: 0.2857\n",
            "Epoch 7/20\n",
            "4/4 [==============================] - 0s 6ms/step - loss: 37.0202 - accuracy: 0.1429\n",
            "Epoch 8/20\n",
            "4/4 [==============================] - 0s 5ms/step - loss: 6.5124 - accuracy: 0.5714\n",
            "Epoch 9/20\n",
            "4/4 [==============================] - 0s 5ms/step - loss: 17.4223 - accuracy: 0.5714\n",
            "Epoch 10/20\n",
            "4/4 [==============================] - 0s 7ms/step - loss: 24.5305 - accuracy: 0.2857\n",
            "Epoch 11/20\n",
            "4/4 [==============================] - 0s 4ms/step - loss: 12.5270 - accuracy: 0.2857\n",
            "Epoch 12/20\n",
            "4/4 [==============================] - 0s 6ms/step - loss: 19.7803 - accuracy: 0.2857\n",
            "Epoch 13/20\n",
            "4/4 [==============================] - 0s 7ms/step - loss: 11.6550 - accuracy: 0.5714\n",
            "Epoch 14/20\n",
            "4/4 [==============================] - 0s 5ms/step - loss: 5.6754 - accuracy: 0.4286\n",
            "Epoch 15/20\n",
            "4/4 [==============================] - 0s 5ms/step - loss: 4.1495 - accuracy: 0.7143\n",
            "Epoch 16/20\n",
            "4/4 [==============================] - 0s 5ms/step - loss: 8.3665 - accuracy: 0.7143\n",
            "Epoch 17/20\n",
            "4/4 [==============================] - 0s 5ms/step - loss: 3.8041 - accuracy: 0.7143\n",
            "Epoch 18/20\n",
            "4/4 [==============================] - 0s 5ms/step - loss: 10.7970 - accuracy: 0.2857\n",
            "Epoch 19/20\n",
            "4/4 [==============================] - 0s 5ms/step - loss: 5.8604 - accuracy: 0.7143\n",
            "Epoch 20/20\n",
            "4/4 [==============================] - 0s 6ms/step - loss: 5.6223 - accuracy: 0.5714\n"
          ]
        },
        {
          "output_type": "execute_result",
          "data": {
            "text/plain": [
              "<keras.src.callbacks.History at 0x7e7c086926b0>"
            ]
          },
          "metadata": {},
          "execution_count": 19
        }
      ]
    },
    {
      "cell_type": "markdown",
      "source": [
        "**# Evaluate the model**"
      ],
      "metadata": {
        "id": "64-QNkP3k2ra"
      }
    },
    {
      "cell_type": "code",
      "source": [
        "y_pred = model.predict(X_test)\n",
        "y_pred = (y_pred > 0.5).astype(int)\n",
        "print(classification_report(y_test, y_pred))"
      ],
      "metadata": {
        "colab": {
          "base_uri": "https://localhost:8080/"
        },
        "id": "FkHsdSCQbizx",
        "outputId": "2c70c5f7-4e40-42eb-9c18-13246b0433c9"
      },
      "execution_count": 20,
      "outputs": [
        {
          "output_type": "stream",
          "name": "stdout",
          "text": [
            "1/1 [==============================] - 0s 168ms/step\n",
            "              precision    recall  f1-score   support\n",
            "\n",
            "           0       0.00      0.00      0.00         1\n",
            "           1       0.67      1.00      0.80         2\n",
            "\n",
            "    accuracy                           0.67         3\n",
            "   macro avg       0.33      0.50      0.40         3\n",
            "weighted avg       0.44      0.67      0.53         3\n",
            "\n"
          ]
        },
        {
          "output_type": "stream",
          "name": "stderr",
          "text": [
            "/usr/local/lib/python3.10/dist-packages/sklearn/metrics/_classification.py:1344: UndefinedMetricWarning: Precision and F-score are ill-defined and being set to 0.0 in labels with no predicted samples. Use `zero_division` parameter to control this behavior.\n",
            "  _warn_prf(average, modifier, msg_start, len(result))\n",
            "/usr/local/lib/python3.10/dist-packages/sklearn/metrics/_classification.py:1344: UndefinedMetricWarning: Precision and F-score are ill-defined and being set to 0.0 in labels with no predicted samples. Use `zero_division` parameter to control this behavior.\n",
            "  _warn_prf(average, modifier, msg_start, len(result))\n",
            "/usr/local/lib/python3.10/dist-packages/sklearn/metrics/_classification.py:1344: UndefinedMetricWarning: Precision and F-score are ill-defined and being set to 0.0 in labels with no predicted samples. Use `zero_division` parameter to control this behavior.\n",
            "  _warn_prf(average, modifier, msg_start, len(result))\n"
          ]
        }
      ]
    },
    {
      "cell_type": "markdown",
      "source": [
        "**# Predict the optimal send time for each user**"
      ],
      "metadata": {
        "id": "MSv4t7KbkcDi"
      }
    },
    {
      "cell_type": "code",
      "source": [
        "if 'optimal_send_time' not in df.columns:\n",
        "    # Add the column with appropriate values\n",
        "    optimal_send_times = []\n",
        "    for index, row in df.iterrows():\n",
        "        user_features = np.array([[row['age'], row['purchase_count'], row['total_spend'], t] for t in range(8, 22)])\n",
        "        send_time_predictions = model.predict(user_features)\n",
        "        optimal_send_time = np.argmax(send_time_predictions) + 8\n",
        "        optimal_send_times.append(optimal_send_time)\n",
        "\n",
        "    df['optimal_send_time'] = optimal_send_times\n",
        "else:\n",
        "    raise KeyError(\"The 'optimal_send_time' key does not exist in the DataFrame.\")\n"
      ],
      "metadata": {
        "colab": {
          "base_uri": "https://localhost:8080/"
        },
        "id": "rseFX1Y3bqbd",
        "outputId": "06839703-230c-4ac4-cbeb-121383588afd"
      },
      "execution_count": 29,
      "outputs": [
        {
          "output_type": "stream",
          "name": "stdout",
          "text": [
            "1/1 [==============================] - 0s 27ms/step\n",
            "1/1 [==============================] - 0s 24ms/step\n",
            "1/1 [==============================] - 0s 24ms/step\n",
            "1/1 [==============================] - 0s 25ms/step\n",
            "1/1 [==============================] - 0s 23ms/step\n",
            "1/1 [==============================] - 0s 23ms/step\n",
            "1/1 [==============================] - 0s 24ms/step\n",
            "1/1 [==============================] - 0s 23ms/step\n",
            "1/1 [==============================] - 0s 25ms/step\n",
            "1/1 [==============================] - 0s 24ms/step\n"
          ]
        }
      ]
    },
    {
      "cell_type": "markdown",
      "source": [
        "**# Function to send an email**"
      ],
      "metadata": {
        "id": "nZVKv0EbkR86"
      }
    },
    {
      "cell_type": "code",
      "source": [
        "def send_email(recipient, subject, body):\n",
        "    message = MIMEMultipart()\n",
        "    message['From'] = 'your_email@example.com'\n",
        "    message['To'] = recipient\n",
        "    message['Subject'] = subject\n",
        "    message.attach(MIMEText(body, 'plain'))\n",
        "\n",
        "    try:\n",
        "        server = smtplib.SMTP('smtp.example.com', 587)\n",
        "        server.starttls()\n",
        "        server.login('your_email@example.com', 'your_password')\n",
        "        server.sendmail('your_email@example.com', recipient, message.as_string())\n",
        "        server.quit()\n",
        "        print(f\"Email sent to {recipient}\")\n",
        "    except Exception as e:\n",
        "        print(f\"Failed to send email to {recipient}: {str(e)}\")"
      ],
      "metadata": {
        "id": "gQifYQasXwKq"
      },
      "execution_count": 30,
      "outputs": []
    },
    {
      "cell_type": "markdown",
      "source": [
        "**# Function to schedule email sending at the optimal time**"
      ],
      "metadata": {
        "id": "Y6b3gBlbkBgR"
      }
    },
    {
      "cell_type": "code",
      "source": [
        "def schedule_emails():\n",
        "    for _, row in df.iterrows():\n",
        "        recipient = row['email']\n",
        "        subject = 'Exclusive Offer Just for You!'\n",
        "        body = row['personalized_message']\n",
        "        send_time = row['optimal_send_time']\n",
        "\n",
        "        def job(recipient=recipient, subject=subject, body=body, send_time=send_time):\n",
        "            send_email(recipient, subject, body)\n",
        "\n",
        "        schedule.every().day.at(f\"{send_time:02d}:00\").do(job)"
      ],
      "metadata": {
        "id": "QQqBUUkbdJeM"
      },
      "execution_count": 31,
      "outputs": []
    },
    {
      "cell_type": "markdown",
      "source": [
        "**# Run the email scheduler**"
      ],
      "metadata": {
        "id": "9Qx4uoYPj9Vq"
      }
    },
    {
      "cell_type": "code",
      "source": [
        "schedule_emails()"
      ],
      "metadata": {
        "id": "xPZZtkZEdQf6"
      },
      "execution_count": 33,
      "outputs": []
    }
  ]
}